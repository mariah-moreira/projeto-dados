{
 "cells": [
  {
   "cell_type": "markdown",
   "metadata": {},
   "source": [
    "# Mini-Projeto: Simulação de Jogo de Dados | Entrega (11/08 - Sexta-feira)\n",
    "\n",
    "## Objetivo\n",
    "\n",
    "Você tem a tarefa de criar uma simulação para um jogo de dados. Essa simulação tem como objetivo reunir estatísticas para analisar a justiça do jogo, possíveis resultados e fazer previsões sobre jogos futuros.\n",
    "\n",
    "## Desafios do Projeto\n",
    "\n",
    "1. **Simulação de Dados**: Crie uma função que simule o lançamento de dois dados de seis lados (valores de 1 a 6). Esta função deve retornar a soma dos resultados dos dados.\n",
    "\n",
    "2. **Múltiplas Simulações**: Use a função do passo 1 para simular um grande número de jogos de dados (digamos, 1000 jogos). Armazene o resultado de cada jogo em um array NumPy.\n",
    "\n",
    "3. **Análise de Dados**: Agora, vamos analisar os resultados desses jogos. Calcule e imprima o seguinte:\n",
    "- A média dos resultados.\n",
    "- O lançamento máximo e mínimo.\n",
    "- O número de vezes que cada possível lançamento (2, 3, 4, 5, 6, 7, 8, 9, 10, 11 e 12) ocorreu.\n",
    "- Teste de Hipótese: Agora vamos fazer um pouco de teste de hipóteses:\n",
    "  - Supondo um jogo justo (ou seja, todos os lançamentos são igualmente prováveis), o resultado da sua simulação coincide com essa suposição? Por que sim ou por que não?\n",
    "  - O que isso significa para um jogador do jogo de dados?\n",
    "\n",
    "## Entregáveis\n",
    "\n",
    "Link de um repositório no seu GitHub, contendo:\n",
    "- Um script Python (arquivo `.py` ou `.ipynb`) com a sua solução para os três desafios apresentados.\n"
   ]
  },
  {
   "cell_type": "code",
   "execution_count": 1,
   "metadata": {},
   "outputs": [],
   "source": [
    "import numpy as np"
   ]
  },
  {
   "cell_type": "code",
   "execution_count": 20,
   "metadata": {},
   "outputs": [],
   "source": [
    "# 1. Simulação de Dados\n",
    "\n",
    "def simulador_de_dados ():\n",
    "    rodar = np.random.randint(1,7,size=2)\n",
    "\n",
    "    return np.sum(rodar)\n",
    "\n",
    "#Teste\n",
    "#result = simulador_de_dados()\n",
    "#print(\"Resultado do lançamento:\",result)\n"
   ]
  },
  {
   "cell_type": "code",
   "execution_count": 21,
   "metadata": {},
   "outputs": [],
   "source": [
    "# 2. Múltiplas Simulações:\n",
    "\n",
    "numero_de_jogos = 1000\n",
    "\n",
    "resultados = np.array([simulador_de_dados() for _ in range(numero_de_jogos)])"
   ]
  },
  {
   "cell_type": "code",
   "execution_count": 22,
   "metadata": {},
   "outputs": [
    {
     "name": "stdout",
     "output_type": "stream",
     "text": [
      "Média dos resultados: 7.006\n"
     ]
    }
   ],
   "source": [
    "# 3. Análise de Dados:\n",
    "\n",
    "# A) Média dos resultados:\n",
    "media = np.mean(resultados)\n",
    "print(\"Média dos resultados:\",media)\n"
   ]
  },
  {
   "cell_type": "code",
   "execution_count": 23,
   "metadata": {},
   "outputs": [
    {
     "name": "stdout",
     "output_type": "stream",
     "text": [
      "Lançamento máximo: 12\n",
      "Lançamento mínimo: 2\n"
     ]
    }
   ],
   "source": [
    "# 3. Análise de Dados:\n",
    "\n",
    "# B) Lançamento máximo e mínimo:\n",
    "maximo = np.max(resultados)\n",
    "print(\"Lançamento máximo:\",maximo)\n",
    "\n",
    "minimo = np.min(resultados)\n",
    "print(\"Lançamento mínimo:\",minimo)"
   ]
  },
  {
   "cell_type": "code",
   "execution_count": 24,
   "metadata": {},
   "outputs": [
    {
     "name": "stdout",
     "output_type": "stream",
     "text": [
      "Lançamento 2 ocorreu 0 vezes;\n",
      "Lançamento 3 ocorreu 0 vezes;\n",
      "Lançamento 4 ocorreu 26 vezes;\n",
      "Lançamento 5 ocorreu 45 vezes;\n",
      "Lançamento 6 ocorreu 91 vezes;\n",
      "Lançamento 7 ocorreu 105 vezes;\n",
      "Lançamento 8 ocorreu 138 vezes;\n",
      "Lançamento 9 ocorreu 168 vezes;\n",
      "Lançamento 10 ocorreu 156 vezes;\n",
      "Lançamento 11 ocorreu 120 vezes;\n",
      "Lançamento 12 ocorreu 71 vezes;\n",
      "Lançamento 13 ocorreu 58 vezes;\n",
      "Lançamento 14 ocorreu 20 vezes;\n"
     ]
    }
   ],
   "source": [
    "# 3. Análise de Dados:\n",
    "\n",
    "# C. Número de vezes que cada possível lançamento (2, 3, 4, 5, 6, 7, 8, 9, 10, 11 e 12) ocorreu.\n",
    "contador = np.bincount(resultados[2:])\n",
    "for x, contar in enumerate (contador, start=2):\n",
    "    print(f\"Lançamento {x} ocorreu {contar} vezes;\")"
   ]
  },
  {
   "cell_type": "markdown",
   "metadata": {},
   "source": [
    "# Resultado - Teste de Hipótese:\n",
    "\n",
    "- Supondo um jogo justo (ou seja, todos os lançamentos são igualmente prováveis), o resultado da sua simulação coincide com essa suposição? Por que sim ou por que não?\n",
    "\n",
    "Não, porque a probabilidade do resultado estar entre 7 e 10 é muito maior do que a probabilidade da resultado ser um extremo, como 2 por exemplo. Isso acontece porque existem mais combinações que proporcionam esses resultados, enquanto os extremos (2 e 14) existem menos combinações.\n",
    "\n",
    "\n",
    "- O que isso significa para um jogador do jogo de dados?\n",
    "\n",
    "Que se ele apostar entre 7 e 10 a chance de ganhar é maior."
   ]
  }
 ],
 "metadata": {
  "kernelspec": {
   "display_name": "Python 3",
   "language": "python",
   "name": "python3"
  },
  "language_info": {
   "codemirror_mode": {
    "name": "ipython",
    "version": 3
   },
   "file_extension": ".py",
   "mimetype": "text/x-python",
   "name": "python",
   "nbconvert_exporter": "python",
   "pygments_lexer": "ipython3",
   "version": "3.11.3"
  },
  "orig_nbformat": 4
 },
 "nbformat": 4,
 "nbformat_minor": 2
}
